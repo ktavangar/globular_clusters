{
 "cells": [
  {
   "cell_type": "code",
   "execution_count": null,
   "id": "d1843a5c-bac4-4c81-a5bb-a7d11c9762e1",
   "metadata": {},
   "outputs": [],
   "source": [
    "from astropy.coordinates import SkyCoord\n",
    "from astropy.table import Table\n",
    "import astropy.units as u\n",
    "from astroquery.vizier import Vizier\n",
    "\n",
    "import pylab as plt\n",
    "import numpy as np"
   ]
  },
  {
   "cell_type": "code",
   "execution_count": null,
   "id": "d6793542-6d5d-4dd2-9a37-786c0454c6fe",
   "metadata": {},
   "outputs": [],
   "source": [
    "Vizier.ROW_LIMIT = -1\n",
    "catalogs = Vizier.get_catalogs('VII/195')"
   ]
  },
  {
   "cell_type": "code",
   "execution_count": null,
   "id": "cfb0383f-33fc-4e9b-ba84-b61ef61e820e",
   "metadata": {},
   "outputs": [],
   "source": [
    "tab = catalogs[0]\n",
    "coords = SkyCoord(tab['RA2000'],tab['DE2000'],unit = (u.hourangle, u.deg))"
   ]
  },
  {
   "cell_type": "code",
   "execution_count": null,
   "id": "d688cb46-7f3b-4444-8c42-32fa00791cac",
   "metadata": {},
   "outputs": [],
   "source": [
    "#Select GCs in DELVE pre-DR2\n",
    "sel = (coords.galactic.b.deg > 10) & (coords.dec.deg < 30)"
   ]
  },
  {
   "cell_type": "code",
   "execution_count": null,
   "id": "2220e49e-d546-4016-944f-34e1f4ae10e3",
   "metadata": {},
   "outputs": [],
   "source": [
    "fig = plt.figure(figsize=(14,7))\n",
    "ax = fig.add_subplot(111, projection=\"mollweide\")\n",
    "ax.scatter(coords.ra.wrap_at(180*u.deg).rad, coords.dec.rad,c='b')\n",
    "ax.scatter(coords[sel].ra.wrap_at(180*u.deg).rad, coords[sel].dec.rad,c='r')\n",
    "plt.grid()"
   ]
  }
 ],
 "metadata": {
  "kernelspec": {
   "display_name": "Python 3",
   "language": "python",
   "name": "python3"
  },
  "language_info": {
   "codemirror_mode": {
    "name": "ipython",
    "version": 3
   },
   "file_extension": ".py",
   "mimetype": "text/x-python",
   "name": "python",
   "nbconvert_exporter": "python",
   "pygments_lexer": "ipython3",
   "version": "3.8.8"
  }
 },
 "nbformat": 4,
 "nbformat_minor": 5
}
