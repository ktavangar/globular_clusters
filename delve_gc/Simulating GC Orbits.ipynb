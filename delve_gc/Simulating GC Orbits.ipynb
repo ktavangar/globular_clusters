{
 "cells": [
  {
   "cell_type": "code",
   "execution_count": 1,
   "id": "bb5436a6",
   "metadata": {},
   "outputs": [
    {
     "name": "stderr",
     "output_type": "stream",
     "text": [
      "WARNING: AstropyDeprecationWarning: http://bugs.python.org/issue12166 is resolved. See docstring for alternatives. [gala.dynamics.core]\n"
     ]
    },
    {
     "name": "stdout",
     "output_type": "stream",
     "text": [
      "\u001b[91mA new version of galpy (1.9.0) is available, please upgrade using pip/conda/... to get the latest features and bug fixes!\u001b[0m\n"
     ]
    },
    {
     "name": "stderr",
     "output_type": "stream",
     "text": [
      "WARNING: AstropyDeprecationWarning: The matrix_product function is deprecated and may be removed in a future version.\n",
      "        Use @ instead. [gala.coordinates.sgr]\n",
      "WARNING: AstropyDeprecationWarning: The matrix_product function is deprecated and may be removed in a future version.\n",
      "        Use @ instead. [gala.coordinates.orphan]\n",
      "WARNING: AstropyDeprecationWarning: The matrix_product function is deprecated and may be removed in a future version.\n",
      "        Use @ instead. [gala.coordinates.magellanic_stream]\n"
     ]
    },
    {
     "name": "stdout",
     "output_type": "stream",
     "text": [
      "/Users/Tavangar/anaconda3/lib/python3.9/site-packages/pysynphot/locations.py:345: UserWarning: Extinction files not found in /Users/Tavangar/spisea_dependencies/cdbs/extinction\n",
      "  warnings.warn('Extinction files not found in %s' % (extdir, ))\n",
      "\n"
     ]
    }
   ],
   "source": [
    "import numpy as np\n",
    "import scipy\n",
    "from scipy.integrate import quad\n",
    "\n",
    "import matplotlib as mpl\n",
    "import matplotlib.pyplot as plt\n",
    "\n",
    "import astropy\n",
    "import astropy.units as u\n",
    "from astropy.constants import G, k_B, h, c\n",
    "from astropy.table import Table\n",
    "import astropy.coordinates as coord\n",
    "from astropy.coordinates import SkyCoord\n",
    "\n",
    "import gala\n",
    "import gala.dynamics as gd\n",
    "import gala.potential as gp\n",
    "from gala.potential import NullPotential\n",
    "import gala.coordinates as gc\n",
    "from gala.units import galactic\n",
    "from gala.dynamics.nbody import DirectNBody\n",
    "\n",
    "from Synth_pop import synthpop\n"
   ]
  },
  {
   "cell_type": "code",
   "execution_count": 2,
   "id": "462bfa94",
   "metadata": {},
   "outputs": [],
   "source": [
    "def selfconsistent_plummer(N, M, b):\n",
    "    \"\"\"This function generates a stellar system that is consistent \n",
    "    with a Plummer, following (more or less) \n",
    "    the steps in Aarseth, Henon, Wielen (1974)\n",
    "\n",
    "    Try to code this up yourself - if you have time.\"\"\"\n",
    "    \n",
    "    np.random.seed(2023)\n",
    "    \n",
    "    x1 = np.random.uniform(0, 1, size=N*2)\n",
    "\n",
    "    r = b * (x1**(-2/3) -1)**-0.5\n",
    "    r = r[r<5*u.kpc][0:N]\n",
    "\n",
    "    xyz = np.random.normal(size=(3,N))\n",
    "    pos = xyz * r.value / np.linalg.norm(xyz, axis=0) * r.unit\n",
    "\n",
    "    def v_esc(r):\n",
    "        r = r if isinstance(r, u.Quantity) else r*u.kpc\n",
    "        pot_abs = G*M / np.sqrt(r**2+b**2)\n",
    "        return np.sqrt(2 * pot_abs).to('km/s')\n",
    "\n",
    "    q = np.sqrt(np.random.beta(1.5,4.5, size=N))\n",
    "    v = q * v_esc(r)\n",
    "\n",
    "    v_xyz = np.random.normal(size=(3,N))\n",
    "    vel = v_xyz * v.value / np.linalg.norm(v_xyz, axis=0)*v.unit\n",
    "\n",
    "    return pos, vel"
   ]
  },
  {
   "cell_type": "code",
   "execution_count": 30,
   "id": "5944c102",
   "metadata": {},
   "outputs": [],
   "source": [
    "mw_w0 = gd.PhaseSpacePosition(\n",
    "    np.zeros(3)*u.kpc,\n",
    "    np.zeros(3)*u.km/u.s)\n",
    "\n",
    "lmc_w0 = gd.PhaseSpacePosition(\n",
    "    [0, 250, 0.] * u.kpc,\n",
    "    [0, 0, -50]*u.km/u.s)\n",
    "\n",
    "\n",
    "mw_pot = gp.MilkyWayPotential()\n",
    "lmc_pot = gp.NFWPotential.from_circular_velocity(\n",
    "    v_c=90 * u.km / u.s, r_s=4 * u.kpc, r_ref=5 * u.kpc, units=galactic\n",
    ")\n",
    "\n",
    "w0 = gd.combine((mw_w0, lmc_w0))"
   ]
  },
  {
   "cell_type": "code",
   "execution_count": 40,
   "id": "ee932b15",
   "metadata": {},
   "outputs": [
    {
     "data": {
      "text/plain": [
       "<CartesianRepresentation (x, y, z) in kpc\n",
       "    [(0.,  250.        , 0.00000000e+00),\n",
       "     (0.,  249.99996054, 5.11356038e-02),\n",
       "     (0.,  249.99984216, 1.02271181e-01), ...,\n",
       "     (0., -202.16520518, 1.23100872e+02),\n",
       "     (0., -202.22946147, 1.23078699e+02),\n",
       "     (0., -202.29362719, 1.23056510e+02)]>"
      ]
     },
     "execution_count": 40,
     "metadata": {},
     "output_type": "execute_result"
    }
   ],
   "source": [
    "nbody = gd.DirectNBody(w0, particle_potentials=[mw_pot, lmc_pot])\n",
    "init_orbit = nbody.integrate_orbit(dt=-1*u.Myr, n_steps=int(8000/1))\n",
    "init_orbit.pos[:,1]"
   ]
  },
  {
   "cell_type": "code",
   "execution_count": 27,
   "id": "95625fb8",
   "metadata": {},
   "outputs": [
    {
     "data": {
      "image/png": "[encoded data removed]",
      "text/plain": [
       "<Figure size 640x480 with 1 Axes>"
      ]
     },
     "execution_count": 27,
     "metadata": {},
     "output_type": "execute_result"
    }
   ],
   "source": [
    "grid = np.linspace(-15,15,1000) * u.kpc\n",
    "combined_pot.plot_contours(grid=(grid,grid,0))"
   ]
  },
  {
   "cell_type": "code",
   "execution_count": 42,
   "id": "4e2f7ee2",
   "metadata": {},
   "outputs": [
    {
     "data": {
      "text/plain": [
       "[<CompositePotential disk,bulge,nucleus,halo>,\n",
       " <NFWPotential: m=3.69e+10, r_s=4.00, a=1.00, b=1.00, c=1.00 (kpc,Myr,solMass,rad)>]"
      ]
     },
     "execution_count": 42,
     "metadata": {},
     "output_type": "execute_result"
    }
   ],
   "source": [
    "list([mw_pot, lmc_pot])"
   ]
  },
  {
   "cell_type": "code",
   "execution_count": 108,
   "id": "07e48526",
   "metadata": {},
   "outputs": [],
   "source": [
    "def gc_sim(pos, vel, M_gc, b_gc, dt, N):\n",
    "    \n",
    "    # Create a MW potential that includes the lmc\n",
    "    mw_w0 = gd.PhaseSpacePosition(\n",
    "        np.zeros(3)*u.kpc,\n",
    "        np.zeros(3)*u.km/u.s)\n",
    "\n",
    "    lmc_w0 = gd.PhaseSpacePosition(\n",
    "        [0, 250, 0.] * u.kpc,\n",
    "        [0, 0, -50]*u.km/u.s)\n",
    "\n",
    "\n",
    "    mw_pot = gp.MilkyWayPotential()\n",
    "    lmc_pot = gp.NFWPotential.from_circular_velocity(\n",
    "        v_c=90 * u.km / u.s, r_s=4 * u.kpc, r_ref=5 * u.kpc, units=galactic\n",
    "    )\n",
    "\n",
    "    # make the Plummer Potential that describes the GC\n",
    "    M_gc, b_gc = M_gc*u.Msun, b_gc*u.pc\n",
    "    print(b_gc)\n",
    "    gc_pot = gp.PlummerPotential(m=M_gc, b=b_gc, \n",
    "                                 units=galactic)\n",
    "    gc_w0 = gd.PhaseSpacePosition(pos=pos,\n",
    "                                 vel=vel)\n",
    "    \n",
    "    w0 = gd.combine((mw_w0, lmc_w0, gc_w0))\n",
    "    \n",
    "    print('    Getting Initial Positions...')\n",
    "    nbody0 = gd.DirectNBody(w0, particle_potentials=[mw_pot, lmc_pot, gc_pot])\n",
    "    init_orbit = nbody0.integrate_orbit(dt=-dt*u.Myr, n_steps=int(8000/dt))\n",
    "    init_pos_mw = init_orbit.pos[-1][0] ; init_vel_mw = init_orbit.vel[-1][0]\n",
    "    init_pos_lmc = init_orbit.pos[-1][1] ; init_vel_lmc = init_orbit.vel[-1][1]\n",
    "    init_pos_gc = init_orbit.pos[-1][2] ; init_vel_gc = init_orbit.vel[-1][2]\n",
    "    \n",
    "    init_mw_w = gd.PhaseSpacePosition(pos=init_pos_mw.xyz,\n",
    "                                      vel=init_vel_mw.d_xyz)\n",
    "    init_lmc_w = gd.PhaseSpacePosition(pos=init_pos_lmc.xyz,\n",
    "                                        vel=init_vel_lmc.d_xyz)\n",
    "    init_gc_w = gd.PhaseSpacePosition(pos=init_pos_gc.xyz,\n",
    "                                      vel=init_vel_gc.d_xyz)\n",
    "    \n",
    "    #create a ball of test particles in a Plummer Potential\n",
    "    N = int(N)\n",
    "    gc_test_pos, gc_test_vel = selfconsistent_plummer(N=N, M=M_gc, b=b_gc)\n",
    "\n",
    "    gc_test_w = gd.PhaseSpacePosition(pos=gc_test_pos + init_pos_gc.xyz[:,np.newaxis],\n",
    "                                      vel=gc_test_vel + init_vel_gc.d_xyz[:,np.newaxis])\n",
    "    \n",
    "    # combine phase space positions and potentials\n",
    "    w0 = gd.combine((init_mw_w, init_lmc_w, init_gc_w, gc_test_w))\n",
    "    particle_pot = [list([mw_pot, lmc_pot, gc_pot]) +\n",
    "                    [NullPotential(units=gc_pot.units)] * N][0]\n",
    "\n",
    "    #Simulate the GC evolution\n",
    "    print('    Integrating Orbit...')\n",
    "    nbody1 = DirectNBody(w0, particle_pot, save_all=False)\n",
    "    orbits = nbody1.integrate_orbit(dt=dt*u.Myr, n_steps=int(8000/dt))\n",
    "    \n",
    "    return orbits\n",
    "\n",
    "def paint_pop(tbl, N):\n",
    "    dist = tbl['Dist']\n",
    "    cluster = synthpop(dist = dist)\n",
    "    clust = cluster.star_systems\n",
    "\n",
    "    decam_g = np.random.choice(clust['m_decam_g'], size=int(N), replace=False) #apparent g mag\n",
    "    decam_r = np.random.choice(clust['m_decam_r'], size=int(N), replace=False)\n",
    "\n",
    "    return decam_g, decam_r\n",
    "    \n",
    "\n",
    "def plot_gc_sim(orbits, tbl, N):\n",
    "    mass = tbl['Mass']*u.Msun\n",
    "    dist = tbl['Dist']*u.kpc\n",
    "    r_J_now = tbl['r_J_now']*u.pc\n",
    "    \n",
    "    dist_then = np.linalg.norm(orbits[0,2].xyz)\n",
    "    a_q_then = np.zeros(3)\n",
    "    a_q_then[0] = dist_then.to(u.kpc).value\n",
    "    r_J_then = (dist_then * np.power(mass/(3*mw_pot.mass_enclosed(a_q_then*u.kpc)), 1/3)).to(u.kpc).value\n",
    "\n",
    "    r_J_ICRS = ((r_J_now/dist)*u.rad).to(u.deg).value\n",
    "\n",
    "    final_ra = orbits.to_coord_frame(coord.ICRS)[-1][2:].ra\n",
    "    final_dec = orbits.to_coord_frame(coord.ICRS)[-1][2:].dec\n",
    "\n",
    "    decam_g, _ = paint_pop(tbl, N)\n",
    "    \n",
    "    fig, [[ax1,ax2,ax3], [ax4, ax5, ax6]] = plt.subplots(2, 3, figsize=(14, 9)) \n",
    "    _ = orbits[:, 2].plot(['x', 'y'], axes=[ax1])\n",
    "    ax1.set_title('Orbit')\n",
    "    \n",
    "    _ = orbits[0, 2:].plot(['x', 'y'], axes=[ax2], s=5, c='k')\n",
    "    ax2.set_title('Initial Cluster')\n",
    "    ax2.set_xlim(orbits[0,2].x.value-2*r_J_then, orbits[0,2].x.value+2*r_J_then)\n",
    "    ax2.set_ylim(orbits[0,2].y.value-2*r_J_then, orbits[0,2].y.value+2*r_J_then)\n",
    "    \n",
    "    im3 = ax3.scatter(final_ra[1:], final_dec[1:], c=decam_g, s=5, alpha = 0.3, cmap='viridis')\n",
    "    ax3.set_title('Final Cluster Zoom ICRS')\n",
    "    ax3.set_xlabel('RA')\n",
    "    ax3.set_ylabel('Dec')\n",
    "    ax3.set_xlim(final_ra[0].value-2, final_ra[0].value+2)\n",
    "    ax3.set_ylim(final_dec[0].value-2, final_dec[0].value+2)\n",
    "    \n",
    "    Jacobi2 = plt.Circle((orbits[0,2].x.value, orbits[0,2].y.value), r_J_then, \n",
    "                         fill=False, edgecolor='r', zorder=10, label='Jacobi radius')\n",
    "    Jacobi3 = plt.Circle((final_ra[0].value, final_dec[0].value), r_J_ICRS, \n",
    "                         fill=False, edgecolor='r', zorder=10, label='Jacobi radius')\n",
    "    Jacobi4 = plt.Circle((orbits[-1,2].x.value, orbits[-1,2].y.value), r_J_now.to(u.kpc).value, \n",
    "                         fill=False, edgecolor='r', zorder=10, label='Jacobi radius')\n",
    "#     Jacobi7 = plt.Circle((orbits[-1,0].x.value, orbits[-1,0].y.value), r_J_now.to(u.kpc).value,\n",
    "#                         fill=False, edgecolor='r', zorder=10, label='r_J')\n",
    "#     Jacobi8 = plt.Circle((orbits[-1,0].x.value, orbits[-1,0].z.value), r_J_now.to(u.kpc).value,\n",
    "#                         fill=False, edgecolor='r', zorder=10, label='r_J')\n",
    "#     Jacobi9 = plt.Circle((orbits[-1,0].y.value, orbits[-1,0].z.value), r_J_now.to(u.kpc).value,\n",
    "#                         fill=False, edgecolor='r', zorder=10, label='r_J')\n",
    "    HM_2 = plt.Circle((orbits[0,2].x.value, orbits[0,2].y.value), tbl['r_hm']/1000,\n",
    "                        fill=False, edgecolor='b', zorder=10, label='half-mass radius')\n",
    "    HM_4 = plt.Circle((orbits[-1,2].x.value, orbits[-1,2].y.value), tbl['r_hm']/1000,\n",
    "                        fill=False, edgecolor='b', zorder=10, label='half-mass radius')\n",
    "#     HM_7 = plt.Circle((orbits[-1,0].x.value, orbits[-1,0].y.value), tbl['r_hm']/1000,\n",
    "#                         fill=False, edgecolor='b', zorder=10, label='r_hm')\n",
    "#     HM_8 = plt.Circle((orbits[-1,0].x.value, orbits[-1,0].z.value), tbl['r_hm']/1000,\n",
    "#                         fill=False, edgecolor='b', zorder=10, label='r_hm')\n",
    "#     HM_9 = plt.Circle((orbits[-1,0].y.value, orbits[-1,0].z.value), tbl['r_hm']/1000,\n",
    "#                         fill=False, edgecolor='b', zorder=10, label='r_hm')\n",
    "    \n",
    "    _ = orbits[-1, 2:].plot(axes=[ax4, ax5, ax6], s=20, c='k', alpha=1)\n",
    "    ax4.add_patch(Jacobi4) ; ax4.add_patch(HM_4)\n",
    "    ax4.set_title('Final All Stars')\n",
    "    \n",
    "#     im5 = ax7.hist2d(orbits.x[-1,:].value, orbits.y[-1,:].value, bins=30, \n",
    "#                      norm=mpl.colors.LogNorm(vmin=0.1, vmax=10), cmap='gray_r')\n",
    "#     ax7.add_patch(Jacobi7) ; ax7.add_patch(HM_7)\n",
    "#     ax7.set_title('Final All Stars')\n",
    "    \n",
    "    ax2.add_patch(Jacobi2) ; ax2.add_patch(HM_2)\n",
    "    ax3.add_patch(Jacobi3)\n",
    "    \n",
    "#     _ = orbits[-1, :].plot(axes=[ax7, ax8, ax9], s=5, c='k')\n",
    "#     ax7.add_patch(Jacobi7) ; ax7.add_patch(HM_7)\n",
    "#     ax8.add_patch(Jacobi8) ; ax8.add_patch(HM_8)\n",
    "#     ax9.add_patch(Jacobi9) ; ax9.add_patch(HM_9)\n",
    "#     ax7.set_xlim(orbits[-1,0].x.value-2*tbl['r_J_now']/1000, orbits[-1,0].x.value+2*tbl['r_J_now']/1000)\n",
    "#     ax7.set_ylim(orbits[-1,0].y.value-2*tbl['r_J_now']/1000, orbits[-1,0].y.value+2*tbl['r_J_now']/1000)\n",
    "#     ax8.set_xlim(orbits[-1,0].x.value-2*tbl['r_J_now']/1000, orbits[-1,0].x.value+2*tbl['r_J_now']/1000)\n",
    "#     ax8.set_ylim(orbits[-1,0].z.value-2*tbl['r_J_now']/1000, orbits[-1,0].z.value+2*tbl['r_J_now']/1000)\n",
    "#     ax9.set_xlim(orbits[-1,0].y.value-2*tbl['r_J_now']/1000, orbits[-1,0].y.value+2*tbl['r_J_now']/1000)\n",
    "#     ax9.set_ylim(orbits[-1,0].z.value-2*tbl['r_J_now']/1000, orbits[-1,0].z.value+2*tbl['r_J_now']/1000)\n",
    "#     ax8.set_title('Final Cluster Zoom Cartesian')\n",
    "    \n",
    "    #ax1.legend() ; ax2.legend() ; ax3.legend()\n",
    "    ax2.legend() ; ax3.legend() ; ax4.legend() ; #ax5.legend() ; ax6.legend()\n",
    "    #ax7.legend() ; ax8.legend() ; ax9.legend()\n",
    "    plt.suptitle(tbl['Name'], fontsize=20)\n",
    "    fig.colorbar(im3, ax=ax3, label='decam g mag')\n",
    "    fig.tight_layout()\n",
    "    plt.show()"
   ]
  },
  {
   "cell_type": "markdown",
   "id": "a0d70d31",
   "metadata": {},
   "source": [
    "Stream generation is a function of a) some combination of eccentricity and distance, b) potential shape (depth and scale radius), and c) infall time. How well constrained are any of these things? I would think that everything except maybe the depth of the potential (mass of GC at infall) and the infall time would be pretty well constrained from observations. (Could one even get the approximate infall time from current kinematics and doing backwards integration of orbit?) Knowing these things would allow us to make a model of most streams with very simple machinery to see how things evolve."
   ]
  },
  {
   "cell_type": "markdown",
   "id": "b8680c55",
   "metadata": {},
   "source": [
    "## Next Steps\n",
    "\n",
    "More literature review to see what has been theorized about the evolution of infalling GCs and what makes them turn into streams.\n",
    "\n",
    "Literature review to find the relevant parameters for all the streams we are interested in"
   ]
  },
  {
   "cell_type": "markdown",
   "id": "47a60438",
   "metadata": {},
   "source": [
    "## Making Table of Relevant Values"
   ]
  },
  {
   "cell_type": "code",
   "execution_count": 44,
   "id": "e9a58602",
   "metadata": {},
   "outputs": [
    {
     "name": "stderr",
     "output_type": "stream",
     "text": [
      "WARNING: UnitsWarning: 'solMass.Lsun**-1' did not parse as fits unit: At col 8, Unit 'Lsun' not supported by the FITS standard. Did you mean Sun? If this is meant to be a custom unit, define it with 'u.def_unit'. To have it recognized inside a file reader or other code, enable it with 'u.add_enabled_units'. For details, see https://docs.astropy.org/en/latest/units/combining_and_defining.html [astropy.units.core]\n",
      "WARNING: UnitsWarning: 'log(solMass.pc**-3)' did not parse as fits unit: 'log' is not a recognized function If this is meant to be a custom unit, define it with 'u.def_unit'. To have it recognized inside a file reader or other code, enable it with 'u.add_enabled_units'. For details, see https://docs.astropy.org/en/latest/units/combining_and_defining.html [astropy.units.core]\n",
      "WARNING: UnitsWarning: 'log(yr)' did not parse as fits unit: 'log' is not a recognized function If this is meant to be a custom unit, define it with 'u.def_unit'. To have it recognized inside a file reader or other code, enable it with 'u.add_enabled_units'. For details, see https://docs.astropy.org/en/latest/units/combining_and_defining.html [astropy.units.core]\n"
     ]
    }
   ],
   "source": [
    "B_tbl = Table.read('data/Baumgardt+19.fit')\n",
    "BH_tbl = Table.read('data/BH_18.fit')\n",
    "VB_tbl = Table.read('data/VB_21.fit')\n",
    "P_tbl = Table.read('data/Piatti_2019.fit')\n",
    "\n",
    "B_tbl['Name'] = B_tbl['Name'].astype('S11')\n",
    "\n",
    "BH_tbl.rename_column('Cluster', 'Name')\n",
    "BH_tbl['Name'] = BH_tbl['Name'].astype('S11')\n",
    "BH_tbl.rename_column('__RV_', 'Vrad')\n",
    "BH_tbl.rename_column('e__RV_', 'Vrad_err')\n",
    "BH_tbl.rename_column('e_Mass', 'Mass_err')\n",
    "BH_tbl.rename_column('rnm', 'r_hm')\n",
    "BH_tbl.rename_column('rmlp', 'r_hl')\n",
    "del BH_tbl['Note']\n",
    "del BH_tbl['n_Dist']\n",
    "\n",
    "VB_tbl['Name'] = VB_tbl['Name'].astype('S11')\n",
    "VB_tbl.rename_column('Rscale', 'Plum_rs')\n",
    "VB_tbl.rename_column('e_pmRA', 'pmRA_err')\n",
    "VB_tbl.rename_column('pmDE', 'pmDec')\n",
    "VB_tbl.rename_column('e_pmDE', 'pmDec_err')\n",
    "VB_tbl.rename_column('RAJ2000', 'RA')\n",
    "VB_tbl.rename_column('DEJ2000', 'Dec')\n",
    "del VB_tbl['SimbadName']\n",
    "del VB_tbl['recno']\n",
    "del VB_tbl['OName']\n",
    "\n",
    "P_tbl.rename_column('rh_rJa', 'rh_rJ_a')\n",
    "P_tbl.rename_column('rh_rJRperi', 'rh_rJ_Rperi')\n",
    "P_tbl.rename_column('i', 'inc')\n",
    "P_tbl['Name'] = P_tbl['Name'].astype('S11')"
   ]
  },
  {
   "cell_type": "code",
   "execution_count": 45,
   "id": "afbf4b46",
   "metadata": {},
   "outputs": [
    {
     "name": "stderr",
     "output_type": "stream",
     "text": [
      "WARNING: MergeConflictWarning: Cannot merge meta key 'CDS-CAT' types <class 'str'> and <class 'str'>, choosing CDS-CAT='J/MNRAS/489/4367' [astropy.utils.metadata]\n",
      "WARNING: MergeConflictWarning: Cannot merge meta key 'EXTNAME' types <class 'str'> and <class 'str'>, choosing EXTNAME='J_MNRAS_489_4367_tablea1' [astropy.utils.metadata]\n",
      "WARNING: MergeConflictWarning: Cannot merge meta key 'CDS-NAME' types <class 'str'> and <class 'str'>, choosing CDS-NAME='J/MNRAS/489/4367/tablea1' [astropy.utils.metadata]\n",
      "WARNING: MergeConflictWarning: Cannot merge meta key 'CDS-CAT' types <class 'str'> and <class 'str'>, choosing CDS-CAT='J/MNRAS/482/5138' [astropy.utils.metadata]\n",
      "WARNING: MergeConflictWarning: Cannot merge meta key 'EXTNAME' types <class 'str'> and <class 'str'>, choosing EXTNAME='J_MNRAS_482_5138_table1' [astropy.utils.metadata]\n",
      "WARNING: MergeConflictWarning: Cannot merge meta key 'CDS-NAME' types <class 'str'> and <class 'str'>, choosing CDS-NAME='J/MNRAS/482/5138/table1' [astropy.utils.metadata]\n",
      "WARNING: MergeConflictWarning: Cannot merge meta key 'CDS-CAT' types <class 'str'> and <class 'str'>, choosing CDS-CAT='J/MNRAS/505/5978' [astropy.utils.metadata]\n",
      "WARNING: MergeConflictWarning: Cannot merge meta key 'EXTNAME' types <class 'str'> and <class 'str'>, choosing EXTNAME='J_MNRAS_505_5978_tablea1' [astropy.utils.metadata]\n",
      "WARNING: MergeConflictWarning: Cannot merge meta key 'CDS-NAME' types <class 'str'> and <class 'str'>, choosing CDS-NAME='J/MNRAS/505/5978/tablea1' [astropy.utils.metadata]\n"
     ]
    }
   ],
   "source": [
    "full_tbl__ = astropy.table.join(BH_tbl, P_tbl, keys='_RA')\n",
    "full_tbl__['Name'] = full_tbl__['Name_1']\n",
    "del full_tbl__['Name_1']\n",
    "del full_tbl__['Name_2']\n",
    "full_tbl_ = astropy.table.join(full_tbl__, B_tbl, keys='Name')\n",
    "full_tbl = astropy.table.join(full_tbl_, VB_tbl, keys=\"Name\")\n",
    "\n",
    "mw_pot = gp.MilkyWayPotential()\n",
    "a_q = np.zeros((3, (len(full_tbl))))\n",
    "a_q[0] = full_tbl['Dist'] #semi-major axis\n",
    "full_tbl['r_J_now'] = (full_tbl['Dist']*np.power(full_tbl['Mass']/(3*mw_pot.mass_enclosed(a_q*u.kpc)), 1/3)).to(u.pc)\n",
    "full_tbl['Plum_rs'] = (full_tbl['Plum_rs'].to(u.rad).value*full_tbl['Dist']).to(u.pc)\n",
    "\n",
    "col_subset = ['Name', 'RA', 'Dec', 'Dist',\n",
    "              'pmRA', 'pmDec', 'Vrad', \n",
    "              'Mass','Plum_rs', 'rc', 'r_hm', 'r_hl', 'r_J_now',\n",
    "              'a', 'Rperi', 'rh_rJ_a', 'rh_rJ_Rperi', 'ecc', 'inc']  # List or tuple\n",
    "tbl = full_tbl[col_subset]"
   ]
  },
  {
   "cell_type": "code",
   "execution_count": null,
   "id": "a1d0f2bb",
   "metadata": {},
   "outputs": [],
   "source": []
  },
  {
   "cell_type": "code",
   "execution_count": 46,
   "id": "7c528e6f",
   "metadata": {},
   "outputs": [],
   "source": [
    "c = SkyCoord(ra=tbl['RA'], dec=tbl['Dec'], distance=tbl['Dist'],\n",
    "             pm_ra_cosdec=tbl['pmRA'], pm_dec=tbl['pmDec'], radial_velocity=tbl['Vrad'])\n",
    "init_w = c.transform_to(coord.Galactocentric)\n",
    "\n",
    "pos = init_w.data.xyz\n",
    "vel = init_w.velocity.d_xyz"
   ]
  },
  {
   "cell_type": "code",
   "execution_count": 47,
   "id": "0eee85d5",
   "metadata": {},
   "outputs": [
    {
     "data": {
      "text/html": [
       "<div><i>Table length=30</i>\n",
       "<table id=\"table140581938482576\" class=\"table-striped table-bordered table-condensed\">\n",
       "<thead><tr><th>Name</th><th>RA</th><th>Dec</th><th>Dist</th><th>pmRA</th><th>pmDec</th><th>Vrad</th><th>Mass</th><th>Plum_rs</th><th>rc</th><th>r_hm</th><th>r_hl</th><th>r_J_now</th><th>a</th><th>Rperi</th><th>rh_rJ_a</th><th>rh_rJ_Rperi</th><th>ecc</th><th>inc</th></tr></thead>\n",
       "<thead><tr><th></th><th>deg</th><th>deg</th><th>kpc</th><th>mas / yr</th><th>mas / yr</th><th>km / s</th><th>solMass</th><th>pc</th><th>pc</th><th>pc</th><th>pc</th><th>pc</th><th>kpc</th><th>pc</th><th></th><th></th><th></th><th>deg</th></tr></thead>\n",
       "<thead><tr><th>bytes11</th><th>float64</th><th>float64</th><th>float64</th><th>float64</th><th>float64</th><th>float64</th><th>float64</th><th>float64</th><th>float64</th><th>float64</th><th>float64</th><th>float64</th><th>float64</th><th>float64</th><th>float64</th><th>float64</th><th>float64</th><th>float64</th></tr></thead>\n",
       "<tr><td>NGC 5272</td><td>205.548</td><td>28.377</td><td>10.06</td><td>-0.152</td><td>-2.67</td><td>-147.2</td><td>394000.0</td><td>13.40261603663139</td><td>1.04</td><td>5.44</td><td>3.36</td><td>103.33297736371253</td><td>10.29</td><td>5.44</td><td>0.05</td><td>0.08</td><td>0.47</td><td>56.37</td></tr>\n",
       "<tr><td>NGC 5286</td><td>206.612</td><td>-51.374</td><td>11.7</td><td>0.198</td><td>-0.153</td><td>62.2</td><td>401000.0</td><td>8.508480103472357</td><td>0.77</td><td>4.26</td><td>2.64</td><td>115.96571367131828</td><td>7.21</td><td>1.16</td><td>0.05</td><td>0.16</td><td>0.84</td><td>125.18</td></tr>\n",
       "<tr><td>NGC 5466</td><td>211.364</td><td>28.534</td><td>16.9</td><td>-5.342</td><td>-0.822</td><td>106.9</td><td>45600.0</td><td>11.601785314423639</td><td>8.16</td><td>15.68</td><td>10.72</td><td>73.35919095995749</td><td>36.74</td><td>7.95</td><td>0.13</td><td>0.38</td><td>0.78</td><td>107.25</td></tr>\n",
       "<tr><td>NGC 5634</td><td>217.405</td><td>-5.976</td><td>27.2</td><td>-1.692</td><td>-1.478</td><td>-16.2</td><td>213000.0</td><td>7.674794497436397</td><td>0.88</td><td>7.5</td><td>4.69</td><td>173.3154657538929</td><td>14.09</td><td>4.27</td><td>0.08</td><td>0.17</td><td>0.7</td><td>64.17</td></tr>\n",
       "<tr><td>NGC 5694</td><td>219.901</td><td>-26.539</td><td>37.33</td><td>-0.464</td><td>-1.105</td><td>-139.4</td><td>383000.0</td><td>8.252731190413453</td><td>0.04</td><td>5.93</td><td>3.31</td><td>266.16855399903454</td><td>35.01</td><td>3.98</td><td>0.02</td><td>0.11</td><td>0.89</td><td>124.95</td></tr>\n",
       "<tr><td>NGC 5824</td><td>225.994</td><td>-33.068</td><td>31.8</td><td>-1.189</td><td>-2.234</td><td>-25.5</td><td>779000.0</td><td>13.967870003710619</td><td>0.08</td><td>6.74</td><td>3.74</td><td>299.483087358913</td><td>26.72</td><td>15.17</td><td>0.03</td><td>0.04</td><td>0.43</td><td>57.22</td></tr>\n",
       "<tr><td>NGC 5897</td><td>229.352</td><td>-21.01</td><td>13.43</td><td>-5.422</td><td>-3.393</td><td>101.2</td><td>203000.0</td><td>10.118168183765858</td><td>5.85</td><td>11.59</td><td>8.02</td><td>102.15133590730649</td><td>6.09</td><td>2.86</td><td>0.2</td><td>0.31</td><td>0.53</td><td>59.5</td></tr>\n",
       "<tr><td>NGC 5904</td><td>229.638</td><td>2.081</td><td>7.5</td><td>4.086</td><td>-9.87</td><td>53.8</td><td>372000.0</td><td>11.519173063162574</td><td>1.2</td><td>5.58</td><td>3.61</td><td>82.12163554732906</td><td>13.55</td><td>2.9</td><td>0.04</td><td>0.12</td><td>0.79</td><td>74.09</td></tr>\n",
       "<tr><td>NGC 5927</td><td>232.003</td><td>-50.673</td><td>8.4</td><td>-5.056</td><td>-3.217</td><td>-104.1</td><td>354000.0</td><td>10.873401239924673</td><td>1.46</td><td>7.21</td><td>4.98</td><td>87.56267567550351</td><td>4.7</td><td>3.99</td><td>0.1</td><td>0.12</td><td>0.15</td><td>9.13</td></tr>\n",
       "<tr><td>...</td><td>...</td><td>...</td><td>...</td><td>...</td><td>...</td><td>...</td><td>...</td><td>...</td><td>...</td><td>...</td><td>...</td><td>...</td><td>...</td><td>...</td><td>...</td><td>...</td><td>...</td><td>...</td></tr>\n",
       "<tr><td>NGC 6256</td><td>254.886</td><td>-37.121</td><td>6.4</td><td>-3.715</td><td>-1.637</td><td>-99.6</td><td>72300.0</td><td>1.9547687622336494</td><td>0.05</td><td>4.38</td><td>2.93</td><td>42.58133297275749</td><td>2.34</td><td>2.13</td><td>0.14</td><td>0.15</td><td>0.09</td><td>18.53</td></tr>\n",
       "<tr><td>NGC 6266</td><td>255.303</td><td>-30.114</td><td>6.47</td><td>-4.978</td><td>-2.947</td><td>-74.5</td><td>707000.0</td><td>11.047614188094574</td><td>0.39</td><td>2.95</td><td>1.83</td><td>91.74182916405056</td><td>1.59</td><td>0.83</td><td>0.07</td><td>0.12</td><td>0.48</td><td>29.05</td></tr>\n",
       "<tr><td>NGC 6273</td><td>255.657</td><td>-26.268</td><td>8.24</td><td>-3.249</td><td>1.66</td><td>145.3</td><td>680000.0</td><td>8.724784575436185</td><td>1.11</td><td>4.97</td><td>3.13</td><td>107.36068887503623</td><td>2.28</td><td>1.22</td><td>0.09</td><td>0.14</td><td>0.46</td><td>99.61</td></tr>\n",
       "<tr><td>NGC 6284</td><td>256.119</td><td>-24.765</td><td>15.3</td><td>-3.2</td><td>-2.002</td><td>29.0</td><td>551000.0</td><td>5.741260574435347</td><td>0.63</td><td>6.77</td><td>3.91</td><td>156.6266644029226</td><td>4.32</td><td>1.28</td><td>0.09</td><td>0.2</td><td>0.7</td><td>90.47</td></tr>\n",
       "<tr><td>NGC 6293</td><td>257.543</td><td>-26.582</td><td>9.5</td><td>0.87</td><td>-4.326</td><td>-142.6</td><td>188000.0</td><td>4.974188368183839</td><td>0.11</td><td>4.37</td><td>2.76</td><td>77.47229819769898</td><td>1.76</td><td>0.5</td><td>0.23</td><td>0.61</td><td>0.72</td><td>130.42</td></tr>\n",
       "<tr><td>NGC 6304</td><td>258.634</td><td>-29.462</td><td>9.4</td><td>-4.07</td><td>-1.088</td><td>-108.2</td><td>277000.0</td><td>5.769476730675922</td><td>1.02</td><td>6.68</td><td>4.45</td><td>87.48562964023485</td><td>2.39</td><td>1.77</td><td>0.19</td><td>0.23</td><td>0.26</td><td>19.66</td></tr>\n",
       "<tr><td>NGC 6316</td><td>259.155</td><td>-28.14</td><td>11.6</td><td>-4.969</td><td>-4.592</td><td>99.1</td><td>375000.0</td><td>5.095197862988779</td><td>0.59</td><td>4.49</td><td>2.72</td><td>112.69906155464261</td><td>3.12</td><td>1.45</td><td>0.09</td><td>0.15</td><td>0.54</td><td>34.75</td></tr>\n",
       "<tr><td>NGC 6341</td><td>259.281</td><td>43.136</td><td>8.1</td><td>-4.935</td><td>-0.625</td><td>-120.7</td><td>268000.0</td><td>7.751879872732815</td><td>0.61</td><td>4.14</td><td>2.28</td><td>77.75680242422442</td><td>5.76</td><td>1.0</td><td>0.07</td><td>0.2</td><td>0.83</td><td>83.79</td></tr>\n",
       "<tr><td>NGC 6342</td><td>260.292</td><td>-19.587</td><td>8.43</td><td>-2.903</td><td>-7.116</td><td>116.0</td><td>46400.0</td><td>3.776368902540131</td><td>0.07</td><td>2.88</td><td>2.1</td><td>44.59294293670875</td><td>1.5</td><td>1.12</td><td>0.12</td><td>0.15</td><td>0.25</td><td>62.88</td></tr>\n",
       "<tr><td>NGC 6352</td><td>261.371</td><td>-48.422</td><td>5.89</td><td>-2.158</td><td>-4.447</td><td>-140.1</td><td>93800.0</td><td>5.122861331632889</td><td>0.57</td><td>4.71</td><td>3.23</td><td>43.88622416832893</td><td>3.28</td><td>2.98</td><td>0.18</td><td>0.19</td><td>0.09</td><td>13.33</td></tr>\n",
       "</table></div>"
      ],
      "text/plain": [
       "<Table length=30>\n",
       "    Name       RA     Dec     Dist  ... rh_rJ_a rh_rJ_Rperi   ecc     inc  \n",
       "              deg     deg     kpc   ...                               deg  \n",
       "  bytes11   float64 float64 float64 ... float64   float64   float64 float64\n",
       "----------- ------- ------- ------- ... ------- ----------- ------- -------\n",
       "NGC 5272    205.548  28.377   10.06 ...    0.05        0.08    0.47   56.37\n",
       "NGC 5286    206.612 -51.374    11.7 ...    0.05        0.16    0.84  125.18\n",
       "NGC 5466    211.364  28.534    16.9 ...    0.13        0.38    0.78  107.25\n",
       "NGC 5634    217.405  -5.976    27.2 ...    0.08        0.17     0.7   64.17\n",
       "NGC 5694    219.901 -26.539   37.33 ...    0.02        0.11    0.89  124.95\n",
       "NGC 5824    225.994 -33.068    31.8 ...    0.03        0.04    0.43   57.22\n",
       "NGC 5897    229.352  -21.01   13.43 ...     0.2        0.31    0.53    59.5\n",
       "NGC 5904    229.638   2.081     7.5 ...    0.04        0.12    0.79   74.09\n",
       "NGC 5927    232.003 -50.673     8.4 ...     0.1        0.12    0.15    9.13\n",
       "        ...     ...     ...     ... ...     ...         ...     ...     ...\n",
       "NGC 6256    254.886 -37.121     6.4 ...    0.14        0.15    0.09   18.53\n",
       "NGC 6266    255.303 -30.114    6.47 ...    0.07        0.12    0.48   29.05\n",
       "NGC 6273    255.657 -26.268    8.24 ...    0.09        0.14    0.46   99.61\n",
       "NGC 6284    256.119 -24.765    15.3 ...    0.09         0.2     0.7   90.47\n",
       "NGC 6293    257.543 -26.582     9.5 ...    0.23        0.61    0.72  130.42\n",
       "NGC 6304    258.634 -29.462     9.4 ...    0.19        0.23    0.26   19.66\n",
       "NGC 6316    259.155  -28.14    11.6 ...    0.09        0.15    0.54   34.75\n",
       "NGC 6341    259.281  43.136     8.1 ...    0.07         0.2    0.83   83.79\n",
       "NGC 6342    260.292 -19.587    8.43 ...    0.12        0.15    0.25   62.88\n",
       "NGC 6352    261.371 -48.422    5.89 ...    0.18        0.19    0.09   13.33"
      ]
     },
     "execution_count": 47,
     "metadata": {},
     "output_type": "execute_result"
    }
   ],
   "source": [
    "tbl[20:50]"
   ]
  },
  {
   "cell_type": "code",
   "execution_count": 48,
   "id": "a3e91866",
   "metadata": {},
   "outputs": [],
   "source": [
    "gcs = [b'NGC 5897   ', b'NGC 5634   ', b'Pal 5      ', b'NGC 288    ', b'NGC 362    ', b'NGC 1261   ', \n",
    "       b'NGC 1851   ', b'NGC 1904   ', b'NGC 2298   ', b'NGC 2808   ', b'E 3        ', \n",
    "       b'NGC 3201   ', b'NGC 4147   ', b'NGC 4372   ', b'NGC 5024   ', b'NGC 5286   ', \n",
    "       b'NGC 5694   ', b'Pal 4      ', b'NGC 5904   ', b'NGC 5986   ', \n",
    "       b'Pal 14     ', b'Rup 106    ', b'NGC 4590   ', b'Pal 13     ', b'NGC 6093   ', \n",
    "       b'NGC 6101   ', b'NGC 6171   ', b'IC 4499    ', b'Pyxis      ', b'NGC 6362   ', \n",
    "       b'NGC 6397   ', b'NGC 6584   ', b'NGC 6723   ', b'NGC 6809   ', b'NGC 7089   ', \n",
    "       b'NGC 7099   ', b'NGC 7492   ']"
   ]
  },
  {
   "cell_type": "code",
   "execution_count": 49,
   "id": "de7e4629",
   "metadata": {},
   "outputs": [
    {
     "ename": "NameError",
     "evalue": "name 'orbits' is not defined",
     "output_type": "error",
     "traceback": [
      "\u001b[0;31m---------------------------------------------------------------------------\u001b[0m",
      "\u001b[0;31mNameError\u001b[0m                                 Traceback (most recent call last)",
      "Cell \u001b[0;32mIn[49], line 11\u001b[0m\n\u001b[1;32m      8\u001b[0m mw_lmc_pot\u001b[38;5;241m.\u001b[39mpop(\u001b[38;5;28mlist\u001b[39m(mw_lmc_pot\u001b[38;5;241m.\u001b[39mkeys())[\u001b[38;5;241m-\u001b[39m\u001b[38;5;241m1\u001b[39m])\n\u001b[1;32m     10\u001b[0m mw_lmc_pot[\u001b[38;5;124m'\u001b[39m\u001b[38;5;124mlmc\u001b[39m\u001b[38;5;124m'\u001b[39m] \u001b[38;5;241m=\u001b[39m lmc_pot\n\u001b[0;32m---> 11\u001b[0m \u001b[38;5;28mprint\u001b[39m(\u001b[43morbits\u001b[49m[\u001b[38;5;241m0\u001b[39m,\u001b[38;5;241m0\u001b[39m]\u001b[38;5;241m.\u001b[39menergy(mw_lmc_pot))\n\u001b[1;32m     12\u001b[0m gd\u001b[38;5;241m.\u001b[39mPhaseSpacePosition(pos\u001b[38;5;241m=\u001b[39mpos[:,idx], vel\u001b[38;5;241m=\u001b[39mvel[:,idx])\u001b[38;5;241m.\u001b[39menergy(mw_lmc_pot)\n",
      "\u001b[0;31mNameError\u001b[0m: name 'orbits' is not defined"
     ]
    }
   ],
   "source": [
    "# Create a MW potential that includes the lmc\n",
    "mw_pot = gp.MilkyWayPotential()\n",
    "lmc_w0 = gd.PhaseSpacePosition([0, 250, 0.] * u.kpc,\n",
    "                           [0, 0, -50]*u.km/u.s)\n",
    "lmc_pot = gp.NFWPotential.from_circular_velocity(v_c=90 * u.km / u.s, r_s=4 * u.kpc, r_ref=5 * u.kpc, \n",
    "                                             units=galactic)\n",
    "mw_lmc_pot = mw_pot + lmc_pot\n",
    "mw_lmc_pot.pop(list(mw_lmc_pot.keys())[-1])\n",
    "\n",
    "mw_lmc_pot['lmc'] = lmc_pot\n",
    "print(orbits[0,0].energy(mw_lmc_pot))\n",
    "gd.PhaseSpacePosition(pos=pos[:,idx], vel=vel[:,idx]).energy(mw_lmc_pot)"
   ]
  },
  {
   "cell_type": "code",
   "execution_count": 107,
   "id": "7a924099",
   "metadata": {},
   "outputs": [
    {
     "data": {
      "text/plain": [
       "<Orbit cartesian, dim=3, shape=(32001, 2006)>"
      ]
     },
     "execution_count": 107,
     "metadata": {},
     "output_type": "execute_result"
    }
   ],
   "source": [
    "gd.combine(check)"
   ]
  },
  {
   "cell_type": "code",
   "execution_count": 104,
   "id": "85f04d15",
   "metadata": {},
   "outputs": [
    {
     "data": {
      "text/plain": [
       "(<Orbit cartesian, dim=3, shape=(32001, 1003)>,\n",
       " <Orbit cartesian, dim=3, shape=(32001, 1003)>)"
      ]
     },
     "execution_count": 104,
     "metadata": {},
     "output_type": "execute_result"
    }
   ],
   "source": [
    "(orbits, orbits)"
   ]
  },
  {
   "cell_type": "code",
   "execution_count": 106,
   "id": "511dcc15",
   "metadata": {},
   "outputs": [
    {
     "name": "stdout",
     "output_type": "stream",
     "text": [
      "[<Orbit cartesian, dim=3, shape=(32001, 1003)>]\n"
     ]
    },
    {
     "data": {
      "text/plain": [
       "[<Orbit cartesian, dim=3, shape=(32001, 1003)>,\n",
       " <Orbit cartesian, dim=3, shape=(32001, 1003)>]"
      ]
     },
     "execution_count": 106,
     "metadata": {},
     "output_type": "execute_result"
    }
   ],
   "source": [
    "check = [orbits]\n",
    "print(check)\n",
    "check.append(orbits)\n",
    "check"
   ]
  },
  {
   "cell_type": "code",
   "execution_count": 84,
   "id": "87ce67ee",
   "metadata": {},
   "outputs": [
    {
     "data": {
      "text/plain": [
       "358"
      ]
     },
     "execution_count": 84,
     "metadata": {},
     "output_type": "execute_result"
    }
   ],
   "source": [
    "((orbits[-1][3:].pos - orbits[-1][2].pos).norm().to(u.pc).value < tbl['r_J_now'][idx]).sum()"
   ]
  },
  {
   "cell_type": "code",
   "execution_count": 109,
   "id": "8ac1b7f2",
   "metadata": {
    "scrolled": false
   },
   "outputs": [
    {
     "name": "stdout",
     "output_type": "stream",
     "text": [
      "NGC 5897   \n",
      "10.118168183765858 pc\n",
      "    Getting Initial Positions...\n",
      "    Integrating Orbit...\n"
     ]
    },
    {
     "ename": "TypeError",
     "evalue": "'Quantity' object with a scalar value does not support indexing",
     "output_type": "error",
     "traceback": [
      "\u001b[0;31m---------------------------------------------------------------------------\u001b[0m",
      "\u001b[0;31mIndexError\u001b[0m                                Traceback (most recent call last)",
      "File \u001b[0;32m~/anaconda3/lib/python3.9/site-packages/astropy/units/quantity.py:1272\u001b[0m, in \u001b[0;36mQuantity.__getitem__\u001b[0;34m(self, key)\u001b[0m\n\u001b[1;32m   1271\u001b[0m \u001b[38;5;28;01mtry\u001b[39;00m:\n\u001b[0;32m-> 1272\u001b[0m     out \u001b[38;5;241m=\u001b[39m \u001b[38;5;28;43msuper\u001b[39;49m\u001b[43m(\u001b[49m\u001b[43m)\u001b[49m\u001b[38;5;241;43m.\u001b[39;49m\u001b[38;5;21;43m__getitem__\u001b[39;49m\u001b[43m(\u001b[49m\u001b[43mkey\u001b[49m\u001b[43m)\u001b[49m\n\u001b[1;32m   1273\u001b[0m \u001b[38;5;28;01mexcept\u001b[39;00m \u001b[38;5;167;01mIndexError\u001b[39;00m:\n\u001b[1;32m   1274\u001b[0m     \u001b[38;5;66;03m# We want zero-dimensional Quantity objects to behave like scalars,\u001b[39;00m\n\u001b[1;32m   1275\u001b[0m     \u001b[38;5;66;03m# so they should raise a TypeError rather than an IndexError.\u001b[39;00m\n",
      "\u001b[0;31mIndexError\u001b[0m: too many indices for array: array is 0-dimensional, but 1 were indexed",
      "\nDuring handling of the above exception, another exception occurred:\n",
      "\u001b[0;31mTypeError\u001b[0m                                 Traceback (most recent call last)",
      "Cell \u001b[0;32mIn[109], line 7\u001b[0m\n\u001b[1;32m      4\u001b[0m \u001b[38;5;28mprint\u001b[39m(tbl[\u001b[38;5;124m'\u001b[39m\u001b[38;5;124mName\u001b[39m\u001b[38;5;124m'\u001b[39m][idx])\n\u001b[1;32m      5\u001b[0m orbits \u001b[38;5;241m=\u001b[39m gc_sim(pos[:,idx], vel[:,idx], M_gc \u001b[38;5;241m=\u001b[39m tbl[\u001b[38;5;124m'\u001b[39m\u001b[38;5;124mMass\u001b[39m\u001b[38;5;124m'\u001b[39m][idx], b_gc \u001b[38;5;241m=\u001b[39m tbl[\u001b[38;5;124m'\u001b[39m\u001b[38;5;124mPlum_rs\u001b[39m\u001b[38;5;124m'\u001b[39m][idx], \n\u001b[1;32m      6\u001b[0m                 dt\u001b[38;5;241m=\u001b[39mdt, N\u001b[38;5;241m=\u001b[39mN)\n\u001b[0;32m----> 7\u001b[0m \u001b[38;5;28mprint\u001b[39m(((\u001b[43morbits\u001b[49m\u001b[43m[\u001b[49m\u001b[38;5;241;43m-\u001b[39;49m\u001b[38;5;241;43m1\u001b[39;49m\u001b[43m]\u001b[49m\u001b[43m[\u001b[49m\u001b[38;5;241;43m3\u001b[39;49m\u001b[43m:\u001b[49m\u001b[43m]\u001b[49m\u001b[38;5;241m.\u001b[39mpos \u001b[38;5;241m-\u001b[39m orbits[\u001b[38;5;241m-\u001b[39m\u001b[38;5;241m1\u001b[39m][\u001b[38;5;241m2\u001b[39m]\u001b[38;5;241m.\u001b[39mpos)\u001b[38;5;241m.\u001b[39mnorm()\u001b[38;5;241m.\u001b[39mto(u\u001b[38;5;241m.\u001b[39mpc)\u001b[38;5;241m.\u001b[39mvalue \u001b[38;5;241m<\u001b[39m tbl[\u001b[38;5;124m'\u001b[39m\u001b[38;5;124mr_J_now\u001b[39m\u001b[38;5;124m'\u001b[39m][idx])\u001b[38;5;241m.\u001b[39msum())\n\u001b[1;32m      8\u001b[0m \u001b[38;5;28mprint\u001b[39m(\u001b[38;5;124m'\u001b[39m\u001b[38;5;124m    Plotting...\u001b[39m\u001b[38;5;124m'\u001b[39m)\n",
      "File \u001b[0;32m~/anaconda3/lib/python3.9/site-packages/gala/dynamics/core.py:191\u001b[0m, in \u001b[0;36mPhaseSpacePosition.__getitem__\u001b[0;34m(self, slyce)\u001b[0m\n\u001b[1;32m    190\u001b[0m \u001b[38;5;28;01mdef\u001b[39;00m \u001b[38;5;21m__getitem__\u001b[39m(\u001b[38;5;28mself\u001b[39m, slyce):\n\u001b[0;32m--> 191\u001b[0m     \u001b[38;5;28;01mreturn\u001b[39;00m \u001b[38;5;28mself\u001b[39m\u001b[38;5;241m.\u001b[39m\u001b[38;5;18m__class__\u001b[39m(pos\u001b[38;5;241m=\u001b[39m\u001b[38;5;28;43mself\u001b[39;49m\u001b[38;5;241;43m.\u001b[39;49m\u001b[43mpos\u001b[49m\u001b[43m[\u001b[49m\u001b[43mslyce\u001b[49m\u001b[43m]\u001b[49m,\n\u001b[1;32m    192\u001b[0m                           vel\u001b[38;5;241m=\u001b[39m\u001b[38;5;28mself\u001b[39m\u001b[38;5;241m.\u001b[39mvel[slyce],\n\u001b[1;32m    193\u001b[0m                           frame\u001b[38;5;241m=\u001b[39m\u001b[38;5;28mself\u001b[39m\u001b[38;5;241m.\u001b[39mframe)\n",
      "File \u001b[0;32m~/anaconda3/lib/python3.9/site-packages/astropy/utils/shapes.py:223\u001b[0m, in \u001b[0;36mShapedLikeNDArray.__getitem__\u001b[0;34m(self, item)\u001b[0m\n\u001b[1;32m    221\u001b[0m \u001b[38;5;28;01mdef\u001b[39;00m \u001b[38;5;21m__getitem__\u001b[39m(\u001b[38;5;28mself\u001b[39m, item):\n\u001b[1;32m    222\u001b[0m     \u001b[38;5;28;01mtry\u001b[39;00m:\n\u001b[0;32m--> 223\u001b[0m         \u001b[38;5;28;01mreturn\u001b[39;00m \u001b[38;5;28;43mself\u001b[39;49m\u001b[38;5;241;43m.\u001b[39;49m\u001b[43m_apply\u001b[49m\u001b[43m(\u001b[49m\u001b[38;5;124;43m\"\u001b[39;49m\u001b[38;5;124;43m__getitem__\u001b[39;49m\u001b[38;5;124;43m\"\u001b[39;49m\u001b[43m,\u001b[49m\u001b[43m \u001b[49m\u001b[43mitem\u001b[49m\u001b[43m)\u001b[49m\n\u001b[1;32m    224\u001b[0m     \u001b[38;5;28;01mexcept\u001b[39;00m \u001b[38;5;167;01mIndexError\u001b[39;00m:\n\u001b[1;32m    225\u001b[0m         \u001b[38;5;28;01mif\u001b[39;00m \u001b[38;5;28mself\u001b[39m\u001b[38;5;241m.\u001b[39misscalar:\n",
      "File \u001b[0;32m~/anaconda3/lib/python3.9/site-packages/astropy/coordinates/representation.py:1059\u001b[0m, in \u001b[0;36mBaseRepresentation._apply\u001b[0;34m(self, method, *args, **kwargs)\u001b[0m\n\u001b[1;32m   1038\u001b[0m \u001b[38;5;28;01mdef\u001b[39;00m \u001b[38;5;21m_apply\u001b[39m(\u001b[38;5;28mself\u001b[39m, method, \u001b[38;5;241m*\u001b[39margs, \u001b[38;5;241m*\u001b[39m\u001b[38;5;241m*\u001b[39mkwargs):\n\u001b[1;32m   1039\u001b[0m     \u001b[38;5;124;03m\"\"\"Create a new representation with ``method`` applied to the component\u001b[39;00m\n\u001b[1;32m   1040\u001b[0m \u001b[38;5;124;03m    data.\u001b[39;00m\n\u001b[1;32m   1041\u001b[0m \n\u001b[0;32m   (...)\u001b[0m\n\u001b[1;32m   1057\u001b[0m \n\u001b[1;32m   1058\u001b[0m \u001b[38;5;124;03m    \"\"\"\u001b[39;00m\n\u001b[0;32m-> 1059\u001b[0m     rep \u001b[38;5;241m=\u001b[39m \u001b[38;5;28;43msuper\u001b[39;49m\u001b[43m(\u001b[49m\u001b[43m)\u001b[49m\u001b[38;5;241;43m.\u001b[39;49m\u001b[43m_apply\u001b[49m\u001b[43m(\u001b[49m\u001b[43mmethod\u001b[49m\u001b[43m,\u001b[49m\u001b[43m \u001b[49m\u001b[38;5;241;43m*\u001b[39;49m\u001b[43margs\u001b[49m\u001b[43m,\u001b[49m\u001b[43m \u001b[49m\u001b[38;5;241;43m*\u001b[39;49m\u001b[38;5;241;43m*\u001b[39;49m\u001b[43mkwargs\u001b[49m\u001b[43m)\u001b[49m\n\u001b[1;32m   1061\u001b[0m     rep\u001b[38;5;241m.\u001b[39m_differentials \u001b[38;5;241m=\u001b[39m {\n\u001b[1;32m   1062\u001b[0m         k: diff\u001b[38;5;241m.\u001b[39m_apply(method, \u001b[38;5;241m*\u001b[39margs, \u001b[38;5;241m*\u001b[39m\u001b[38;5;241m*\u001b[39mkwargs)\n\u001b[1;32m   1063\u001b[0m         \u001b[38;5;28;01mfor\u001b[39;00m k, diff \u001b[38;5;129;01min\u001b[39;00m \u001b[38;5;28mself\u001b[39m\u001b[38;5;241m.\u001b[39m_differentials\u001b[38;5;241m.\u001b[39mitems()\n\u001b[1;32m   1064\u001b[0m     }\n\u001b[1;32m   1065\u001b[0m     \u001b[38;5;28;01mreturn\u001b[39;00m rep\n",
      "File \u001b[0;32m~/anaconda3/lib/python3.9/site-packages/astropy/coordinates/representation.py:418\u001b[0m, in \u001b[0;36mBaseRepresentationOrDifferential._apply\u001b[0;34m(self, method, *args, **kwargs)\u001b[0m\n\u001b[1;32m    416\u001b[0m new \u001b[38;5;241m=\u001b[39m \u001b[38;5;28msuper\u001b[39m()\u001b[38;5;241m.\u001b[39m\u001b[38;5;21m__new__\u001b[39m(\u001b[38;5;28mself\u001b[39m\u001b[38;5;241m.\u001b[39m\u001b[38;5;18m__class__\u001b[39m)\n\u001b[1;32m    417\u001b[0m \u001b[38;5;28;01mfor\u001b[39;00m component \u001b[38;5;129;01min\u001b[39;00m \u001b[38;5;28mself\u001b[39m\u001b[38;5;241m.\u001b[39mcomponents:\n\u001b[0;32m--> 418\u001b[0m     \u001b[38;5;28msetattr\u001b[39m(new, \u001b[38;5;124m\"\u001b[39m\u001b[38;5;124m_\u001b[39m\u001b[38;5;124m\"\u001b[39m \u001b[38;5;241m+\u001b[39m component, \u001b[43mapply_method\u001b[49m\u001b[43m(\u001b[49m\u001b[38;5;28;43mgetattr\u001b[39;49m\u001b[43m(\u001b[49m\u001b[38;5;28;43mself\u001b[39;49m\u001b[43m,\u001b[49m\u001b[43m \u001b[49m\u001b[43mcomponent\u001b[49m\u001b[43m)\u001b[49m\u001b[43m)\u001b[49m)\n\u001b[1;32m    420\u001b[0m \u001b[38;5;66;03m# Copy other 'info' attr only if it has actually been defined.\u001b[39;00m\n\u001b[1;32m    421\u001b[0m \u001b[38;5;66;03m# See PR #3898 for further explanation and justification, along\u001b[39;00m\n\u001b[1;32m    422\u001b[0m \u001b[38;5;66;03m# with Quantity.__array_finalize__\u001b[39;00m\n\u001b[1;32m    423\u001b[0m \u001b[38;5;28;01mif\u001b[39;00m \u001b[38;5;124m\"\u001b[39m\u001b[38;5;124minfo\u001b[39m\u001b[38;5;124m\"\u001b[39m \u001b[38;5;129;01min\u001b[39;00m \u001b[38;5;28mself\u001b[39m\u001b[38;5;241m.\u001b[39m\u001b[38;5;18m__dict__\u001b[39m:\n",
      "File \u001b[0;32m~/anaconda3/lib/python3.9/site-packages/astropy/units/quantity.py:1277\u001b[0m, in \u001b[0;36mQuantity.__getitem__\u001b[0;34m(self, key)\u001b[0m\n\u001b[1;32m   1273\u001b[0m \u001b[38;5;28;01mexcept\u001b[39;00m \u001b[38;5;167;01mIndexError\u001b[39;00m:\n\u001b[1;32m   1274\u001b[0m     \u001b[38;5;66;03m# We want zero-dimensional Quantity objects to behave like scalars,\u001b[39;00m\n\u001b[1;32m   1275\u001b[0m     \u001b[38;5;66;03m# so they should raise a TypeError rather than an IndexError.\u001b[39;00m\n\u001b[1;32m   1276\u001b[0m     \u001b[38;5;28;01mif\u001b[39;00m \u001b[38;5;28mself\u001b[39m\u001b[38;5;241m.\u001b[39misscalar:\n\u001b[0;32m-> 1277\u001b[0m         \u001b[38;5;28;01mraise\u001b[39;00m \u001b[38;5;167;01mTypeError\u001b[39;00m(\n\u001b[1;32m   1278\u001b[0m             \u001b[38;5;124mf\u001b[39m\u001b[38;5;124m\"\u001b[39m\u001b[38;5;124m'\u001b[39m\u001b[38;5;132;01m{\u001b[39;00m\u001b[38;5;28mself\u001b[39m\u001b[38;5;241m.\u001b[39m\u001b[38;5;18m__class__\u001b[39m\u001b[38;5;241m.\u001b[39m\u001b[38;5;18m__name__\u001b[39m\u001b[38;5;132;01m}\u001b[39;00m\u001b[38;5;124m'\u001b[39m\u001b[38;5;124m object with a scalar value \u001b[39m\u001b[38;5;124m\"\u001b[39m\n\u001b[1;32m   1279\u001b[0m             \u001b[38;5;124m\"\u001b[39m\u001b[38;5;124mdoes not support indexing\u001b[39m\u001b[38;5;124m\"\u001b[39m\n\u001b[1;32m   1280\u001b[0m         )\n\u001b[1;32m   1281\u001b[0m     \u001b[38;5;28;01melse\u001b[39;00m:\n\u001b[1;32m   1282\u001b[0m         \u001b[38;5;28;01mraise\u001b[39;00m\n",
      "\u001b[0;31mTypeError\u001b[0m: 'Quantity' object with a scalar value does not support indexing"
     ]
    }
   ],
   "source": [
    "N = 1e3; dt=0.25\n",
    "for i in range(len(gcs[:3])):\n",
    "    idx = np.where(tbl['Name'] == gcs[i])[0][0]\n",
    "    print(tbl['Name'][idx])\n",
    "    orbits = gc_sim(pos[:,idx], vel[:,idx], M_gc = tbl['Mass'][idx], b_gc = tbl['Plum_rs'][idx], \n",
    "                    dt=dt, N=N)\n",
    "    print(((orbits[-1][3:].pos - orbits[-1][2].pos).norm().to(u.pc).value < tbl['r_J_now'][idx]).sum())\n",
    "    print('    Plotting...')\n",
    "    #plot_gc_sim(orbits, tbl[idx], N=N)"
   ]
  },
  {
   "cell_type": "code",
   "execution_count": 47,
   "id": "15dcd14c",
   "metadata": {},
   "outputs": [
    {
     "data": {
      "text/plain": [
       "(1601, 101)"
      ]
     },
     "execution_count": 47,
     "metadata": {},
     "output_type": "execute_result"
    }
   ],
   "source": [
    "#Checking orbit energies at beginning and end of simulation\n",
    "orbits.energy().shape"
   ]
  },
  {
   "cell_type": "markdown",
   "id": "773ae1d1",
   "metadata": {},
   "source": [
    "**See the `make_images` file for what to do from here**"
   ]
  },
  {
   "cell_type": "markdown",
   "id": "82f6019b",
   "metadata": {},
   "source": [
    "### Next Steps\n",
    "\n",
    "Figure out some statistic which can tell us about the extended envelope or stream.\n",
    "\n",
    "Plot that statistic against all of the parameters in the table.\n",
    "\n",
    "Plot the RA and Dec at the final time in the same area as the movies"
   ]
  },
  {
   "cell_type": "markdown",
   "id": "166ae69c",
   "metadata": {},
   "source": [
    "Could we see a relationship between how recent the pericenter passage was and the prevalence of tidal taisl around the cluster?"
   ]
  },
  {
   "cell_type": "code",
   "execution_count": null,
   "id": "1ac9b478",
   "metadata": {},
   "outputs": [],
   "source": []
  }
 ],
 "metadata": {
  "kernelspec": {
   "display_name": "Python 3",
   "language": "python",
   "name": "python3"
  },
  "language_info": {
   "codemirror_mode": {
    "name": "ipython",
    "version": 3
   },
   "file_extension": ".py",
   "mimetype": "text/x-python",
   "name": "python",
   "nbconvert_exporter": "python",
   "pygments_lexer": "ipython3",
   "version": "3.9.16"
  }
 },
 "nbformat": 4,
 "nbformat_minor": 5
}
